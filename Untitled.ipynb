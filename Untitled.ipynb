{
 "cells": [
  {
   "cell_type": "code",
   "execution_count": 2,
   "id": "10dbc5c4",
   "metadata": {},
   "outputs": [],
   "source": [
    "def f(x):\n",
    "    Z = 24.44321494051954\n",
    "    if abs(x) > 7:\n",
    "        return 0\n",
    "    elif abs(x) > 3:\n",
    "        return 3 * (1 - (x / 7) ** 2) ** 0.5 / Z\n",
    "    elif abs(x) > 1:\n",
    "        return (\n",
    "            (3 - abs(x)) / 2 -\n",
    "            3/7 * 10**0.5 * ((3 - x**2 + 2*abs(x))**0.5 - 2)\n",
    "            ) / Z\n",
    "    elif abs(x) > 0.75:\n",
    "        return (9 - 8 * abs(x)) / Z\n",
    "    elif abs(x) > 0.5:\n",
    "        return (3 * abs(x) + 0.75) / Z\n",
    "    else:\n",
    "        return 2.25 / Z"
   ]
  },
  {
   "cell_type": "code",
   "execution_count": 38,
   "id": "707fad41",
   "metadata": {},
   "outputs": [],
   "source": [
    "import numpy as np\n",
    "import random\n",
    "\n",
    "def mh(f,g, t, s, x):\n",
    "    \n",
    "    samples = []\n",
    "    \n",
    "    for i in range(1,t+1):\n",
    "        y = g(x, 2)\n",
    "        \n",
    "        p = min(1, f(y)/f(x))\n",
    "        \n",
    "        if random.random() < p:\n",
    "            x = y\n",
    "            \n",
    "        if i % s == 0:\n",
    "            samples.append(x)\n",
    "            \n",
    "    return samples\n",
    "            \n",
    "    \n",
    "    \n",
    "s = mh(f, np.random.normal, 500000, 100, 0)"
   ]
  },
  {
   "cell_type": "code",
   "execution_count": 39,
   "id": "b429a1f1",
   "metadata": {},
   "outputs": [
    {
     "data": {
      "text/plain": [
       "(array([0.0712, 0.1176, 0.1368, 0.0646, 0.1092, 0.1122, 0.0618, 0.1428,\n",
       "        0.1234, 0.0604]),\n",
       " array([-6.98369594e+00, -5.58611607e+00, -4.18853621e+00, -2.79095635e+00,\n",
       "        -1.39337649e+00,  4.20336974e-03,  1.40178323e+00,  2.79936309e+00,\n",
       "         4.19694295e+00,  5.59452281e+00,  6.99210267e+00]),\n",
       " <BarContainer object of 10 artists>)"
      ]
     },
     "execution_count": 39,
     "metadata": {},
     "output_type": "execute_result"
    },
    {
     "data": {
      "image/png": "[encoded data removed]",
      "text/plain": [
       "<Figure size 432x288 with 1 Axes>"
      ]
     },
     "metadata": {
      "needs_background": "light"
     },
     "output_type": "display_data"
    }
   ],
   "source": [
    "import matplotlib.pyplot as plt\n",
    "\n",
    "plt.plot([i/10 for i in range(-80,80)], [f(i/10) for i in range(-80,80)])\n",
    "\n",
    "weights = np.ones_like(s)/len(s)\n",
    "plt.hist(s, weights = weights, bins = 10)"
   ]
  },
  {
   "cell_type": "code",
   "execution_count": 26,
   "id": "5c0bf6c5",
   "metadata": {},
   "outputs": [
    {
     "name": "stdout",
     "output_type": "stream",
     "text": [
      "[0, 0.0, 0.06321739037492972, 0.08589551913610385, 0.10072142416354912, 0.11089063837599024, 0.035312102827237714, 0.040911148653457165, 0.09205008447027863, 0.040911148653457165, 0.035312102827237714, 0.11089063837599024, 0.10072142416354912, 0.08589551913610385, 0.06321739037492972, 0.0]\n"
     ]
    }
   ],
   "source": [
    "print([f(i) for i in range(-8,8, 1)])"
   ]
  },
  {
   "cell_type": "code",
   "execution_count": null,
   "id": "1227cfbb",
   "metadata": {},
   "outputs": [],
   "source": []
  }
 ],
 "metadata": {
  "kernelspec": {
   "display_name": "Python 3 (ipykernel)",
   "language": "python",
   "name": "python3"
  },
  "language_info": {
   "codemirror_mode": {
    "name": "ipython",
    "version": 3
   },
   "file_extension": ".py",
   "mimetype": "text/x-python",
   "name": "python",
   "nbconvert_exporter": "python",
   "pygments_lexer": "ipython3",
   "version": "3.9.7"
  }
 },
 "nbformat": 4,
 "nbformat_minor": 5
}
