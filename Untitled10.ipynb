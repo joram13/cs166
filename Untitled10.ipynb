{
 "cells": [
  {
   "cell_type": "code",
   "execution_count": 1,
   "id": "3deb95f9",
   "metadata": {},
   "outputs": [],
   "source": [
    "p_i = 0.5 # infection probability\n",
    "p_r = 0.5 # recovery probability\n",
    "p_e = 0.1\n",
    "n = 100"
   ]
  },
  {
   "cell_type": "code",
   "execution_count": 15,
   "id": "c779e27b",
   "metadata": {},
   "outputs": [],
   "source": [
    "import matplotlib\n",
    "matplotlib.use('TkAgg')\n",
    "from pylab import *\n",
    "import networkx as nx\n",
    "import random as rd\n",
    "import copy\n",
    "\n",
    "def initialize():\n",
    "    global g\n",
    "    g = nx.fast_gnp_random_graph(n, p_e)\n",
    "    g.pos = nx.spring_layout(g)\n",
    "    for i in g.nodes:\n",
    "        g.nodes[i]['state'] = 1 if random() < p_i else 0\n",
    "\n",
    "def observe():\n",
    "    global g\n",
    "    cla()\n",
    "    nx.draw(g, vmin = 0, vmax = 1,\n",
    "            node_color = [g.nodes[i]['state'] for i in g.nodes],\n",
    "            pos = g.pos)\n",
    "\n",
    "\n",
    "def update():\n",
    "    global g\n",
    "    inflist = []\n",
    "    for a in list(g.nodes):\n",
    "        if g.nodes[a]['state'] == 0: # if susceptible\n",
    "            inf = 0\n",
    "            for b in range(len(list(g.neighbors(a)))):\n",
    "                if g.nodes[b]['state'] == 1: # if neighbor b is infected\n",
    "                    if random() < p_i:\n",
    "                        inf = 1 \n",
    "            inflist.append(inf)\n",
    "\n",
    "        else: # if infected\n",
    "            if random() < p_r:\n",
    "                inflist.append(0)\n",
    "            else:\n",
    "                inflist.append(1)\n",
    "                           \n",
    "    for i in range(len(list(g.nodes))):\n",
    "        g.nodes[list(g.nodes)[i]]['state'] = inflist[i]\n"
   ]
  },
  {
   "cell_type": "code",
   "execution_count": 34,
   "id": "77289e69",
   "metadata": {},
   "outputs": [
    {
     "name": "stdout",
     "output_type": "stream",
     "text": [
      "0.66\n"
     ]
    }
   ],
   "source": [
    "p_i = 0.5 # infection probability\n",
    "p_r = 0.5 # recovery probability\n",
    "p_e = 0.1\n",
    "n = 100\n",
    "\n",
    "\n",
    "initialize()\n",
    "results = []\n",
    "\n",
    "for u in range(200):\n",
    "    for i in range(200):\n",
    "        update()\n",
    "\n",
    "    results.append(sum([g.nodes[i]['state'] for i in list(g.nodes)])/len([g.nodes[i]['state'] for i in list(g.nodes)]))\n",
    "    \n",
    "\n",
    "print(np.mean(results))"
   ]
  },
  {
   "cell_type": "code",
   "execution_count": 35,
   "id": "53dffc3d",
   "metadata": {},
   "outputs": [
    {
     "name": "stdout",
     "output_type": "stream",
     "text": [
      "0.0\n"
     ]
    }
   ],
   "source": [
    "p_i = 0.04 # infection probability\n",
    "p_r = 0.5 # recovery probability\n",
    "p_e = 0.1\n",
    "n = 100\n",
    "\n",
    "\n",
    "initialize()\n",
    "results = []\n",
    "\n",
    "for u in range(200):\n",
    "    for i in range(200):\n",
    "        update()\n",
    "\n",
    "    results.append(sum([g.nodes[i]['state'] for i in list(g.nodes)])/len([g.nodes[i]['state'] for i in list(g.nodes)]))\n",
    "    \n",
    "\n",
    "print(np.mean(results))"
   ]
  },
  {
   "cell_type": "code",
   "execution_count": 36,
   "id": "5a245f73",
   "metadata": {},
   "outputs": [
    {
     "name": "stdout",
     "output_type": "stream",
     "text": [
      "0.0\n"
     ]
    }
   ],
   "source": [
    "p_i = 0.04 # infection probability\n",
    "p_r = 0.5 # recovery probability\n",
    "p_e = 0.1\n",
    "n = 200\n",
    "\n",
    "\n",
    "initialize()\n",
    "results = []\n",
    "\n",
    "for u in range(200):\n",
    "    for i in range(200):\n",
    "        update()\n",
    "\n",
    "    results.append(sum([g.nodes[i]['state'] for i in list(g.nodes)])/len([g.nodes[i]['state'] for i in list(g.nodes)]))\n",
    "    \n",
    "\n",
    "print(np.mean(results))"
   ]
  },
  {
   "cell_type": "code",
   "execution_count": 37,
   "id": "4aa75cb2",
   "metadata": {},
   "outputs": [
    {
     "name": "stdout",
     "output_type": "stream",
     "text": [
      "0.0\n"
     ]
    }
   ],
   "source": [
    "p_i = 0.04 # infection probability\n",
    "p_r = 0.5 # recovery probability\n",
    "p_e = 0.05\n",
    "n = 200\n",
    "\n",
    "\n",
    "initialize()\n",
    "results = []\n",
    "\n",
    "for u in range(200):\n",
    "    for i in range(200):\n",
    "        update()\n",
    "\n",
    "    results.append(sum([g.nodes[i]['state'] for i in list(g.nodes)])/len([g.nodes[i]['state'] for i in list(g.nodes)]))\n",
    "    \n",
    "\n",
    "print(np.mean(results))"
   ]
  },
  {
   "cell_type": "code",
   "execution_count": 50,
   "id": "7ffeefc4",
   "metadata": {},
   "outputs": [
    {
     "name": "stdout",
     "output_type": "stream",
     "text": [
      "40.838\n",
      "40.0\n",
      "39.2\n"
     ]
    }
   ],
   "source": [
    "g0 = nx.erdos_renyi_graph(1000, 0.04)\n",
    "g1 = nx.watts_strogatz_graph(1000, 40, 0.1)\n",
    "g2 = nx.barabasi_albert_graph(1000, 20) \n",
    "\n",
    "\n",
    "\n",
    "print(np.mean([g0.degree(a) for a in list(g0.nodes)]))\n",
    "print(np.mean([g1.degree(a) for a in list(g0.nodes)]))\n",
    "print(np.mean([g2.degree(a) for a in list(g0.nodes)]))"
   ]
  },
  {
   "cell_type": "code",
   "execution_count": 54,
   "id": "1d67490e",
   "metadata": {},
   "outputs": [
    {
     "name": "stdout",
     "output_type": "stream",
     "text": [
      "41.70840158252393\n"
     ]
    }
   ],
   "source": [
    "n = []\n",
    "for a in list(g0.nodes):\n",
    "    n.append(np.mean([g0.degree(b) for b in list(g0.neighbors(a))]))\n",
    "print(np.mean(n))"
   ]
  },
  {
   "cell_type": "code",
   "execution_count": 55,
   "id": "8d4ebd08",
   "metadata": {},
   "outputs": [
    {
     "name": "stdout",
     "output_type": "stream",
     "text": [
      "40.09244606133836\n"
     ]
    }
   ],
   "source": [
    "n = []\n",
    "for a in list(g1.nodes):\n",
    "    n.append(np.mean([g1.degree(b) for b in list(g1.neighbors(a))]))\n",
    "print(np.mean(n))"
   ]
  },
  {
   "cell_type": "code",
   "execution_count": 56,
   "id": "310e8e7c",
   "metadata": {},
   "outputs": [
    {
     "name": "stdout",
     "output_type": "stream",
     "text": [
      "61.68618594040675\n"
     ]
    }
   ],
   "source": [
    "n = []\n",
    "for a in list(g2.nodes):\n",
    "    n.append(np.mean([g2.degree(b) for b in list(g2.neighbors(a))]))\n",
    "print(np.mean(n))"
   ]
  },
  {
   "cell_type": "code",
   "execution_count": null,
   "id": "61fe6ef0",
   "metadata": {},
   "outputs": [],
   "source": []
  }
 ],
 "metadata": {
  "kernelspec": {
   "display_name": "Python 3 (ipykernel)",
   "language": "python",
   "name": "python3"
  },
  "language_info": {
   "codemirror_mode": {
    "name": "ipython",
    "version": 3
   },
   "file_extension": ".py",
   "mimetype": "text/x-python",
   "name": "python",
   "nbconvert_exporter": "python",
   "pygments_lexer": "ipython3",
   "version": "3.9.7"
  }
 },
 "nbformat": 4,
 "nbformat_minor": 5
}
