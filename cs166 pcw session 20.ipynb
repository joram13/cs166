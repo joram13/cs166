{
 "cells": [
  {
   "cell_type": "code",
   "execution_count": 53,
   "id": "15a5244d",
   "metadata": {},
   "outputs": [],
   "source": [
    "import matplotlib\n",
    "matplotlib.use('TkAgg')\n",
    "from pylab import *\n",
    "import networkx as nx\n",
    "import random as rd\n",
    "\n",
    "n = 30 # number of nodes\n",
    "k = 4 # number of neighbors of each node\n",
    "\n",
    "def initialize():\n",
    "    global g\n",
    "    g = nx.Graph()\n",
    "    for i in range(n):\n",
    "        for j in range(1, k // 2 + 1):\n",
    "            g.add_edge(i, (i + j) % n)\n",
    "            g.add_edge(i, (i - j) % n)\n",
    "    g.pos = nx.spring_layout(g)\n",
    "    g.count = 0\n",
    "\n",
    "def observe():\n",
    "    global g\n",
    "    cla()\n",
    "    nx.draw(g, pos = g.pos)\n",
    "\n",
    "def update():\n",
    "    global g\n",
    "    g.count += 1\n",
    "    if g.count % 20 == 0: # rewiring once in every 20 steps\n",
    "        nds = list(g.nodes)\n",
    "        i = rd.choice(nds)\n",
    "        if g.degree[i] > 0:\n",
    "            g.remove_edge(i, rd.choice(list(g.neighbors(i))))\n",
    "            nds.remove(i)\n",
    "            for j in g.neighbors(i):\n",
    "                nds.remove(j)\n",
    "            g.add_edge(i, rd.choice(nds))\n",
    "\n",
    "    # simulation of node movement\n",
    "    g.pos = nx.spring_layout(g, pos = g.pos, iterations = 5)\n"
   ]
  },
  {
   "cell_type": "code",
   "execution_count": 54,
   "id": "fb431410",
   "metadata": {},
   "outputs": [],
   "source": [
    "sidesize = 3\n",
    "\n",
    "def initialize_new():\n",
    "    global g\n",
    "    g = nx.grid_graph(dim = (sidesize,sidesize,sidesize))\n",
    "    g.pos = nx.spring_layout(g)\n",
    "    g.count = 0"
   ]
  },
  {
   "cell_type": "code",
   "execution_count": 55,
   "id": "399e4c1f",
   "metadata": {},
   "outputs": [],
   "source": [
    "initialize_new()\n",
    "\n",
    "for i in range(300):\n",
    "    update()\n",
    "    \n",
    "observe()\n",
    "plt.show()"
   ]
  },
  {
   "cell_type": "code",
   "execution_count": 41,
   "id": "8e199d22",
   "metadata": {},
   "outputs": [],
   "source": [
    "import matplotlib\n",
    "matplotlib.use('TkAgg')\n",
    "from pylab import *\n",
    "import networkx as nx\n",
    "\n",
    "m0 = 5 # number of nodes in initial condition\n",
    "m = 2 # number of edges per new node\n",
    "\n",
    "def initialize():\n",
    "    global g\n",
    "    g = nx.complete_graph(m0)\n",
    "    g.pos = nx.spring_layout(g)\n",
    "    g.count = 0\n",
    "\n",
    "def observe():\n",
    "    global g\n",
    "    cla()\n",
    "    nx.draw(g, pos = g.pos)\n",
    "\n",
    "def pref_select(nds):\n",
    "    global g\n",
    "    r = uniform(0, sum(g.degree(i) for i in nds))\n",
    "    x=0\n",
    "    for i in nds:\n",
    "        x += g.degree[i]\n",
    "        if r <= x:\n",
    "            return i\n",
    "\n",
    "def update():\n",
    "    global g\n",
    "    g.count += 1\n",
    "    if g.count % 20 == 0: # network growth once in every 20 steps\n",
    "        nds = list(g.nodes)\n",
    "        newcomer = max(nds) + 1\n",
    "        for i in range(m):\n",
    "            j = pref_select(nds)\n",
    "            g.add_edge(newcomer, j)\n",
    "            nds.remove(j)\n",
    "        g.pos[newcomer] = (0, 0)\n",
    "\n",
    "    # simulation of node movement\n",
    "    g.pos = nx.spring_layout(g, pos = g.pos, iterations = 5)"
   ]
  },
  {
   "cell_type": "code",
   "execution_count": 50,
   "id": "7e98962c",
   "metadata": {},
   "outputs": [
    {
     "name": "stderr",
     "output_type": "stream",
     "text": [
      "/var/folders/77/c4hhs_s54n18f8xdgrm72xf80000gp/T/ipykernel_70858/4054377965.py:22: DeprecationWarning: Calling np.sum(generator) is deprecated, and in the future will give a different result. Use np.sum(np.fromiter(generator)) or the python sum builtin instead.\n",
      "  r = uniform(0, sum(g.degree(i) for i in nds))\n"
     ]
    }
   ],
   "source": [
    "m = 1\n",
    "initialize()\n",
    "\n",
    "for i in range(300):\n",
    "    update()\n",
    "    \n",
    "observe()"
   ]
  },
  {
   "cell_type": "code",
   "execution_count": 51,
   "id": "9e6da023",
   "metadata": {},
   "outputs": [
    {
     "name": "stderr",
     "output_type": "stream",
     "text": [
      "/var/folders/77/c4hhs_s54n18f8xdgrm72xf80000gp/T/ipykernel_70858/4054377965.py:22: DeprecationWarning: Calling np.sum(generator) is deprecated, and in the future will give a different result. Use np.sum(np.fromiter(generator)) or the python sum builtin instead.\n",
      "  r = uniform(0, sum(g.degree(i) for i in nds))\n"
     ]
    }
   ],
   "source": [
    "m = 3\n",
    "initialize()\n",
    "\n",
    "for i in range(300):\n",
    "    update()\n",
    "observe()"
   ]
  },
  {
   "cell_type": "code",
   "execution_count": 52,
   "id": "a60602aa",
   "metadata": {},
   "outputs": [
    {
     "name": "stderr",
     "output_type": "stream",
     "text": [
      "/var/folders/77/c4hhs_s54n18f8xdgrm72xf80000gp/T/ipykernel_70858/4054377965.py:22: DeprecationWarning: Calling np.sum(generator) is deprecated, and in the future will give a different result. Use np.sum(np.fromiter(generator)) or the python sum builtin instead.\n",
      "  r = uniform(0, sum(g.degree(i) for i in nds))\n"
     ]
    }
   ],
   "source": [
    "m = 5\n",
    "initialize()\n",
    "\n",
    "for i in range(300):\n",
    "    update()\n",
    "observe()"
   ]
  },
  {
   "cell_type": "code",
   "execution_count": null,
   "id": "c0dee840",
   "metadata": {},
   "outputs": [],
   "source": []
  }
 ],
 "metadata": {
  "kernelspec": {
   "display_name": "Python 3 (ipykernel)",
   "language": "python",
   "name": "python3"
  },
  "language_info": {
   "codemirror_mode": {
    "name": "ipython",
    "version": 3
   },
   "file_extension": ".py",
   "mimetype": "text/x-python",
   "name": "python",
   "nbconvert_exporter": "python",
   "pygments_lexer": "ipython3",
   "version": "3.9.7"
  }
 },
 "nbformat": 4,
 "nbformat_minor": 5
}
