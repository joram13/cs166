{
 "cells": [
  {
   "cell_type": "code",
   "execution_count": 9,
   "id": "17305763",
   "metadata": {},
   "outputs": [
    {
     "data": {
      "text/plain": [
       "(array([ 77., 104.,  92.,  63.,  57.,  38.,  32.,  18.,  12.,   7.]),\n",
       " array([-4. , -0.2,  3.6,  7.4, 11.2, 15. , 18.8, 22.6, 26.4, 30.2, 34. ]),\n",
       " <BarContainer object of 10 artists>)"
      ]
     },
     "execution_count": 9,
     "metadata": {},
     "output_type": "execute_result"
    },
    {
     "data": {
      "image/png": "[encoded data removed]",
      "text/plain": [
       "<Figure size 432x288 with 1 Axes>"
      ]
     },
     "metadata": {
      "needs_background": "light"
     },
     "output_type": "display_data"
    }
   ],
   "source": [
    "import random\n",
    "import numpy as np\n",
    "import matplotlib.pyplot as plt\n",
    "\n",
    "def random_walk_a(start, length):\n",
    "    position = start\n",
    "    \n",
    "    for i in range(length):\n",
    "        \n",
    "        if position == -4:\n",
    "            position += 1\n",
    "            \n",
    "        elif random.random() < 0.5:\n",
    "            position += 1\n",
    "        else:\n",
    "            position -= 1 \n",
    "            \n",
    "            \n",
    "    return position\n",
    "\n",
    "\n",
    "\n",
    "out = []\n",
    "\n",
    "for i in range(500):\n",
    "    out.append(random_walk_a(0, 200))\n",
    "    \n",
    "plt.title('histogram of final location a')\n",
    "plt.hist(out)\n",
    "\n",
    "    \n",
    "    "
   ]
  },
  {
   "cell_type": "code",
   "execution_count": 17,
   "id": "a5728a82",
   "metadata": {},
   "outputs": [
    {
     "data": {
      "text/plain": [
       "(array([ 7., 17., 27., 68., 51., 17.,  9.,  2.,  1.,  1.]),\n",
       " array([-44. , -33.4, -22.8, -12.2,  -1.6,   9. ,  19.6,  30.2,  40.8,\n",
       "         51.4,  62. ]),\n",
       " <BarContainer object of 10 artists>)"
      ]
     },
     "execution_count": 17,
     "metadata": {},
     "output_type": "execute_result"
    },
    {
     "data": {
      "image/png": "[encoded data removed]",
      "text/plain": [
       "<Figure size 432x288 with 1 Axes>"
      ]
     },
     "metadata": {
      "needs_background": "light"
     },
     "output_type": "display_data"
    }
   ],
   "source": [
    "def random_walk_b(start, length):\n",
    "    position = start\n",
    "    \n",
    "    for i in range(length):\n",
    "        \n",
    "        if position == 6:# or position == 7:\n",
    "            if random.random() < 0.75:\n",
    "                position -= 1\n",
    "            else:\n",
    "                position += 1\n",
    "            \n",
    "        elif random.random() < 0.5:\n",
    "            position += 1\n",
    "        else:\n",
    "            position -= 1 \n",
    "            \n",
    "            \n",
    "    return position\n",
    "\n",
    "\n",
    "\n",
    "out = []\n",
    "\n",
    "for i in range(200):\n",
    "    out.append(random_walk_b(0, 300))\n",
    "    \n",
    "plt.title('histogram of final location b')\n",
    "plt.hist(out)"
   ]
  },
  {
   "cell_type": "code",
   "execution_count": 19,
   "id": "f1d7fff4",
   "metadata": {},
   "outputs": [
    {
     "data": {
      "text/plain": [
       "(array([   6.,   83.,  448., 1512., 2843., 2916., 1607.,  488.,   88.,\n",
       "           9.]),\n",
       " array([ 99.30511054,  99.9349432 , 100.56477586, 101.19460852,\n",
       "        101.82444118, 102.45427384, 103.08410651, 103.71393917,\n",
       "        104.34377183, 104.97360449, 105.60343715]),\n",
       " <BarContainer object of 10 artists>)"
      ]
     },
     "execution_count": 19,
     "metadata": {},
     "output_type": "execute_result"
    },
    {
     "data": {
      "image/png": "[encoded data removed]",
      "text/plain": [
       "<Figure size 432x288 with 1 Axes>"
      ]
     },
     "metadata": {
      "needs_background": "light"
     },
     "output_type": "display_data"
    }
   ],
   "source": [
    "import math\n",
    "\n",
    "def gaus_random_walk(length):\n",
    "    \n",
    "    mu = 0.1\n",
    "    sigma = 0.3\n",
    "    deltat = 1/365\n",
    "    pos = 100\n",
    "    \n",
    "    for i in range(length):\n",
    "        pos += pos * (mu*deltat + sigma * np.random.normal(0, deltat))\n",
    "        \n",
    "        \n",
    "    return pos\n",
    "        \n",
    "\n",
    "out = []\n",
    "\n",
    "for i in range(10000):\n",
    "    out.append(gaus_random_walk(90))\n",
    "    \n",
    "    \n",
    "\n",
    "plt.title('histogram of final location gaus walk')\n",
    "plt.hist(out)"
   ]
  },
  {
   "cell_type": "code",
   "execution_count": 21,
   "id": "5f5330eb",
   "metadata": {},
   "outputs": [
    {
     "data": {
      "text/plain": [
       "(array([   6.,   73.,  398., 1413., 2734., 2994., 1741.,  536.,   96.,\n",
       "           9.]),\n",
       " array([1.9969716 , 1.99964224, 2.00231289, 2.00498354, 2.00765418,\n",
       "        2.01032483, 2.01299547, 2.01566612, 2.01833676, 2.02100741,\n",
       "        2.02367805]),\n",
       " <BarContainer object of 10 artists>)"
      ]
     },
     "execution_count": 21,
     "metadata": {},
     "output_type": "execute_result"
    },
    {
     "data": {
      "image/png": "[encoded data removed]",
      "text/plain": [
       "<Figure size 432x288 with 1 Axes>"
      ]
     },
     "metadata": {
      "needs_background": "light"
     },
     "output_type": "display_data"
    }
   ],
   "source": [
    "plt.title('histogram of final location gaus walk log10')\n",
    "plt.hist([math.log10(i) for i in out])"
   ]
  },
  {
   "cell_type": "code",
   "execution_count": 37,
   "id": "1575d8c7",
   "metadata": {},
   "outputs": [],
   "source": [
    "def plane_walk(length):\n",
    "\n",
    "    pos = [1,1]\n",
    "    \n",
    "    for i in range(length):\n",
    "        if random.random() < 0.5:\n",
    "            pos[0] += 1\n",
    "        else:\n",
    "            pos[0] -=1\n",
    "            \n",
    "        if random.random() < 0.5:\n",
    "            pos[1] += 1\n",
    "        else:\n",
    "            pos[1] -=1\n",
    "            \n",
    "        if abs(pos[0]) > 19 or abs(pos[1]) > 19:\n",
    "            return 0\n",
    "        elif pos[0] == 13 or pos[0] == 14:\n",
    "            if pos[1] == 7 or pos[1] == 8:\n",
    "                return -1\n",
    "            \n",
    "    return pos\n",
    "        \n",
    "            \n",
    "    \n",
    "    \n",
    "hole = 0\n",
    "boud = 0\n",
    "end =[]\n",
    "\n",
    "for i in range(1000):\n",
    "    r = plane_walk(120)\n",
    "    \n",
    "    if r == 0:\n",
    "        boud +=1\n",
    "    elif r == -1:\n",
    "        hole +=1\n",
    "    else:\n",
    "        end.append(r)\n",
    "    \n",
    "    "
   ]
  },
  {
   "cell_type": "code",
   "execution_count": 39,
   "id": "35299256",
   "metadata": {},
   "outputs": [
    {
     "name": "stdout",
     "output_type": "stream",
     "text": [
      "number of paths fallen in hole:\n",
      "0.053\n",
      "\n",
      "number of paths ending at bound:\n",
      "0.253\n"
     ]
    }
   ],
   "source": [
    "\n",
    "print('number of paths fallen in hole:')\n",
    "print(hole/(hole+boud + len(end)))\n",
    "print()\n",
    "print('number of paths ending at bound:')\n",
    "print(boud/(hole+boud + len(end)))"
   ]
  },
  {
   "cell_type": "code",
   "execution_count": 41,
   "id": "ce1840ab",
   "metadata": {},
   "outputs": [
    {
     "data": {
      "text/plain": [
       "(array([[0., 0., 0., ..., 0., 0., 0.],\n",
       "        [0., 0., 0., ..., 0., 0., 0.],\n",
       "        [0., 0., 1., ..., 0., 0., 0.],\n",
       "        ...,\n",
       "        [0., 0., 0., ..., 1., 0., 0.],\n",
       "        [0., 0., 0., ..., 0., 0., 0.],\n",
       "        [0., 0., 0., ..., 0., 0., 0.]]),\n",
       " array([-19.  , -18.05, -17.1 , -16.15, -15.2 , -14.25, -13.3 , -12.35,\n",
       "        -11.4 , -10.45,  -9.5 ,  -8.55,  -7.6 ,  -6.65,  -5.7 ,  -4.75,\n",
       "         -3.8 ,  -2.85,  -1.9 ,  -0.95,   0.  ,   0.95,   1.9 ,   2.85,\n",
       "          3.8 ,   4.75,   5.7 ,   6.65,   7.6 ,   8.55,   9.5 ,  10.45,\n",
       "         11.4 ,  12.35,  13.3 ,  14.25,  15.2 ,  16.15,  17.1 ,  18.05,\n",
       "         19.  ]),\n",
       " array([-19.  , -18.05, -17.1 , -16.15, -15.2 , -14.25, -13.3 , -12.35,\n",
       "        -11.4 , -10.45,  -9.5 ,  -8.55,  -7.6 ,  -6.65,  -5.7 ,  -4.75,\n",
       "         -3.8 ,  -2.85,  -1.9 ,  -0.95,   0.  ,   0.95,   1.9 ,   2.85,\n",
       "          3.8 ,   4.75,   5.7 ,   6.65,   7.6 ,   8.55,   9.5 ,  10.45,\n",
       "         11.4 ,  12.35,  13.3 ,  14.25,  15.2 ,  16.15,  17.1 ,  18.05,\n",
       "         19.  ]),\n",
       " <matplotlib.collections.QuadMesh at 0x7f845380b610>)"
      ]
     },
     "execution_count": 41,
     "metadata": {},
     "output_type": "execute_result"
    },
    {
     "data": {
      "image/png": "[encoded data removed]",
      "text/plain": [
       "<Figure size 432x288 with 1 Axes>"
      ]
     },
     "metadata": {
      "needs_background": "light"
     },
     "output_type": "display_data"
    }
   ],
   "source": [
    "plt.title('distribition non hole or boundry walks')\n",
    "plt.hist2d([i[0] for i in end],[i[1] for i in end], bins=(40, 40))"
   ]
  },
  {
   "cell_type": "code",
   "execution_count": null,
   "id": "30be0e60",
   "metadata": {},
   "outputs": [],
   "source": []
  }
 ],
 "metadata": {
  "kernelspec": {
   "display_name": "Python 3 (ipykernel)",
   "language": "python",
   "name": "python3"
  },
  "language_info": {
   "codemirror_mode": {
    "name": "ipython",
    "version": 3
   },
   "file_extension": ".py",
   "mimetype": "text/x-python",
   "name": "python",
   "nbconvert_exporter": "python",
   "pygments_lexer": "ipython3",
   "version": "3.9.7"
  }
 },
 "nbformat": 4,
 "nbformat_minor": 5
}
