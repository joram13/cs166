{
 "cells": [
  {
   "cell_type": "code",
   "execution_count": 86,
   "metadata": {},
   "outputs": [],
   "source": [
    "import random \n",
    "import numpy as np\n",
    "import math\n",
    "from matplotlib.colors import ListedColormap\n",
    "import matplotlib.pyplot as plt\n",
    "%matplotlib inline\n",
    "\n",
    "class isling():\n",
    "    \n",
    "    def __init__(self, n, t):\n",
    "        \n",
    "        self.state = np.ones([n,n])\n",
    "        \n",
    "        self.size = n\n",
    "        self.t = t\n",
    "        \n",
    "        for i in range(n):\n",
    "            for u in range(n):\n",
    "                if random.random() > 0.5:\n",
    "                    self.state[i][u] = -1\n",
    "                    \n",
    "    def update(self):\n",
    "        x = random.randrange(self.size)\n",
    "        y = random.randrange(self.size)\n",
    "        \n",
    "        E = 0\n",
    "        \n",
    "        for xn in range(-1,2):\n",
    "            newx = x + xn\n",
    "            if newx < 0:\n",
    "                xn = self.size -1\n",
    "            elif newx == self.size:\n",
    "                newx = 0\n",
    "                \n",
    "            for yn in range(-1,2):\n",
    "                newy = y + yn\n",
    "                if newy < 0:\n",
    "                    yn = self.size -1\n",
    "                elif newy == self.size:\n",
    "                    newy = 0\n",
    "                    \n",
    "                if newy == newx == 0:\n",
    "                    continue\n",
    "                else:\n",
    "                    E += self.state[newx][newy]\n",
    "        E = -self.state[x][y] * E\n",
    "        \n",
    "        \n",
    "        p = min(1, math.exp(2*E/self.t))\n",
    "        #print(p, self.state[x][y])\n",
    "        if random.random() < p:\n",
    "            #print(x, y, self.state[x][y])\n",
    "            self.state[x][y] *= -1\n",
    "            #print(self.state[x][y])\n",
    "            \n",
    "            \n",
    "    def show(self):\n",
    "        '''\n",
    "        This function prints the current state.\n",
    "        '''\n",
    "        cmap = ListedColormap(['b', 'y'])\n",
    "        plt.matshow(self.state, cmap = cmap)\n",
    "        \n",
    "        \n",
    "    def run(self, time):\n",
    "        \n",
    "        for i in range(time):\n",
    "            self.update()\n",
    "            \n",
    "            \n",
    "    def av(self):\n",
    "        return sum([sum(i) for i in self.state])/ (self.size**2)\n",
    "            \n",
    "        \n",
    "                \n",
    "                \n",
    "    \n",
    "    \n",
    "                    \n",
    "        \n",
    "                    \n",
    "a =   isling(100, 0.1)     \n",
    "\n",
    "tresults = []\n",
    "for t in range(1, 6):\n",
    "    tresults.append([])\n",
    "    for i in range(100):\n",
    "        a = isling(10, t)\n",
    "        a.run(100000)\n",
    "        tresults[-1].append(a.av())\n",
    "        \n",
    "  "
   ]
  },
  {
   "cell_type": "code",
   "execution_count": 88,
   "metadata": {},
   "outputs": [
    {
     "data": {
      "text/plain": [
       "Text(0.5, 1.0, 'T =1 ')"
      ]
     },
     "execution_count": 88,
     "metadata": {},
     "output_type": "execute_result"
    },
    {
     "data": {
      "image/png": "[encoded data removed]",
      "text/plain": [
       "<Figure size 432x288 with 1 Axes>"
      ]
     },
     "metadata": {
      "needs_background": "light"
     },
     "output_type": "display_data"
    }
   ],
   "source": [
    "plt.hist(tresults[0])\n",
    "plt.title('T =1 ')"
   ]
  },
  {
   "cell_type": "code",
   "execution_count": 89,
   "metadata": {},
   "outputs": [
    {
     "data": {
      "text/plain": [
       "Text(0.5, 1.0, 'T = 2 ')"
      ]
     },
     "execution_count": 89,
     "metadata": {},
     "output_type": "execute_result"
    },
    {
     "data": {
      "image/png": "[encoded data removed]",
      "text/plain": [
       "<Figure size 432x288 with 1 Axes>"
      ]
     },
     "metadata": {
      "needs_background": "light"
     },
     "output_type": "display_data"
    }
   ],
   "source": [
    "plt.hist(tresults[1])\n",
    "plt.title('T = 2 ')"
   ]
  },
  {
   "cell_type": "code",
   "execution_count": 90,
   "metadata": {},
   "outputs": [
    {
     "data": {
      "text/plain": [
       "Text(0.5, 1.0, 'T = 3 ')"
      ]
     },
     "execution_count": 90,
     "metadata": {},
     "output_type": "execute_result"
    },
    {
     "data": {
      "image/png": "[encoded data removed]",
      "text/plain": [
       "<Figure size 432x288 with 1 Axes>"
      ]
     },
     "metadata": {
      "needs_background": "light"
     },
     "output_type": "display_data"
    }
   ],
   "source": [
    "plt.hist(tresults[2])\n",
    "plt.title('T = 3 ')"
   ]
  },
  {
   "cell_type": "code",
   "execution_count": 91,
   "metadata": {},
   "outputs": [
    {
     "data": {
      "text/plain": [
       "Text(0.5, 1.0, 'T = 4 ')"
      ]
     },
     "execution_count": 91,
     "metadata": {},
     "output_type": "execute_result"
    },
    {
     "data": {
      "image/png": "[encoded data removed]",
      "text/plain": [
       "<Figure size 432x288 with 1 Axes>"
      ]
     },
     "metadata": {
      "needs_background": "light"
     },
     "output_type": "display_data"
    }
   ],
   "source": [
    "plt.hist(tresults[3])\n",
    "plt.title('T = 4 ')"
   ]
  },
  {
   "cell_type": "code",
   "execution_count": 93,
   "metadata": {},
   "outputs": [
    {
     "data": {
      "text/plain": [
       "Text(0.5, 1.0, 'T = 5 ')"
      ]
     },
     "execution_count": 93,
     "metadata": {},
     "output_type": "execute_result"
    },
    {
     "data": {
      "image/png": "[encoded data removed]",
      "text/plain": [
       "<Figure size 432x288 with 1 Axes>"
      ]
     },
     "metadata": {
      "needs_background": "light"
     },
     "output_type": "display_data"
    }
   ],
   "source": [
    "plt.hist(tresults[4])\n",
    "plt.title('T = 5 ')"
   ]
  },
  {
   "cell_type": "code",
   "execution_count": 95,
   "metadata": {},
   "outputs": [
    {
     "name": "stdout",
     "output_type": "stream",
     "text": [
      "[[-1.0, -1.0, 0.5, -1.0, -1.0, -1.0, -1.0, 1.0, 1.0, -1.0, -1.0, 1.0, 1.0, -1.0, -1.0, -1.0, 1.0, -1.0, -1.0, -1.0, 1.0, 0.0, 0.0, -1.0, 1.0, -1.0, 1.0, -1.0, 1.0, 1.0, 0.0, 1.0, 1.0, 1.0, 1.0, 1.0, 0.4, -1.0, -1.0, 1.0, 1.0, 0.54, -1.0, 1.0, 1.0, 1.0, 0.4, 1.0, -1.0, 0.12, 1.0, -1.0, -1.0, 0.0, -1.0, 1.0, 1.0, -1.0, 1.0, -1.0, 1.0, -1.0, 1.0, -1.0, 1.0, 1.0, -0.18, -1.0, -1.0, -0.14, 1.0, 1.0, -1.0, 0.52, -1.0, -1.0, 1.0, 1.0, 1.0, 1.0, 1.0, 0.2, 1.0, -1.0, 1.0, -0.4, 0.0, 0.2, 1.0, -1.0, -1.0, 1.0, -1.0, -0.06, -1.0, 1.0, 1.0, -0.34, 1.0, -1.0], [-1.0, -1.0, 1.0, -1.0, 1.0, 1.0, -1.0, 1.0, 1.0, 1.0, 1.0, -1.0, -1.0, 1.0, -1.0, -1.0, 1.0, -1.0, -1.0, -1.0, 1.0, -1.0, 1.0, 1.0, -1.0, -1.0, -1.0, -1.0, 1.0, 1.0, 1.0, -1.0, -1.0, 1.0, 1.0, -1.0, -1.0, -1.0, 1.0, 1.0, -1.0, 1.0, -1.0, -1.0, -1.0, -1.0, 1.0, -1.0, -1.0, -1.0, 1.0, 1.0, 1.0, -1.0, -1.0, 1.0, -1.0, -1.0, 1.0, -1.0, -1.0, 1.0, 1.0, 1.0, -1.0, 1.0, -1.0, -1.0, 1.0, -1.0, 1.0, 1.0, -1.0, -1.0, 1.0, 1.0, 1.0, 1.0, -1.0, -1.0, -1.0, -1.0, -1.0, -1.0, 1.0, -1.0, 1.0, -1.0, 1.0, -1.0, -1.0, -1.0, -1.0, 1.0, 1.0, -1.0, -1.0, -1.0, -1.0, -0.98], [-1.0, -1.0, 1.0, 1.0, 0.98, -1.0, 1.0, -1.0, -1.0, -1.0, 1.0, 1.0, 1.0, -1.0, -1.0, -1.0, -1.0, -1.0, -1.0, 1.0, -1.0, -0.98, -1.0, 1.0, 1.0, -1.0, -1.0, 0.98, 1.0, -1.0, -1.0, -0.98, 1.0, -0.98, 1.0, 1.0, -1.0, -0.98, -1.0, 1.0, -1.0, -1.0, -0.98, -0.98, -0.98, 0.96, 1.0, 1.0, -1.0, 1.0, 0.98, 0.98, -1.0, -1.0, 1.0, -1.0, -1.0, 1.0, 1.0, -0.98, -1.0, 1.0, -1.0, -1.0, -1.0, -1.0, -1.0, -1.0, -0.98, 1.0, 1.0, 1.0, 1.0, 1.0, -0.98, -0.98, 0.98, -0.98, 0.94, -1.0, -1.0, -1.0, 0.98, 1.0, 0.98, 1.0, -1.0, -1.0, -1.0, -1.0, 1.0, -1.0, -0.94, -0.98, -0.94, 1.0, 1.0, -0.98, -1.0, -1.0], [0.96, -0.94, -1.0, 1.0, 1.0, 0.98, -1.0, -1.0, -0.98, 0.98, -1.0, 0.94, 1.0, -1.0, 1.0, -1.0, 0.94, -0.94, -0.98, 1.0, 0.98, -0.96, -0.96, -0.98, -0.96, -1.0, -1.0, -0.98, -0.98, -0.96, 0.98, -1.0, 0.98, -1.0, 0.98, 0.98, -0.94, 0.98, 0.98, -1.0, -0.96, 0.94, -0.98, -1.0, 0.96, -0.92, -0.98, 1.0, 0.98, 0.98, -1.0, 1.0, -0.96, -1.0, -0.96, 1.0, -1.0, -0.96, -0.96, -0.96, -1.0, -0.96, 0.98, 0.96, 0.96, -0.96, -1.0, 1.0, -0.96, -0.96, -0.96, -0.98, -0.96, -1.0, 0.94, -0.94, 1.0, 0.96, 0.96, 0.98, 0.96, -1.0, 0.92, -0.96, -0.98, -1.0, -0.94, -1.0, -0.94, -0.96, 1.0, 0.94, -1.0, 0.96, -0.96, -0.98, 0.98, 0.96, -1.0, 0.98], [-0.88, 0.9, 0.92, 0.84, 0.86, 0.98, 0.88, -0.96, -0.94, -1.0, -0.96, -0.92, 0.9, -0.8, -0.96, -0.86, -0.94, -0.88, -0.94, -0.94, 0.94, 1.0, -0.94, 0.86, 0.98, 0.96, 0.92, 0.88, -0.98, -1.0, -0.92, -0.92, -0.96, -0.98, 0.92, 0.92, 0.82, -0.92, 0.98, 0.98, 0.96, -0.8, -0.9, 0.9, -0.98, 0.94, -0.88, -0.96, 0.92, -0.9, 0.96, -0.92, 0.94, 0.88, 0.94, 0.98, -0.74, 0.9, -0.88, 1.0, -0.84, -0.94, -0.9, -0.92, 0.9, 0.96, 0.94, 0.9, 0.96, -0.98, 0.84, 0.9, -0.98, -0.88, -0.96, -0.94, -0.82, -0.88, 0.92, 0.88, -0.96, -0.78, -0.94, -0.9, 0.9, 0.9, 0.96, 0.88, 0.92, 1.0, 0.82, 0.92, -0.94, 0.94, 0.76, -0.96, -0.98, 0.92, -0.88, 0.92]]\n"
     ]
    }
   ],
   "source": [
    "print(tresults)"
   ]
  },
  {
   "cell_type": "code",
   "execution_count": null,
   "metadata": {},
   "outputs": [],
   "source": []
  }
 ],
 "metadata": {
  "kernelspec": {
   "display_name": "Python 3",
   "language": "python",
   "name": "python3"
  },
  "language_info": {
   "codemirror_mode": {
    "name": "ipython",
    "version": 3
   },
   "file_extension": ".py",
   "mimetype": "text/x-python",
   "name": "python",
   "nbconvert_exporter": "python",
   "pygments_lexer": "ipython3",
   "version": "3.8.3"
  }
 },
 "nbformat": 4,
 "nbformat_minor": 4
}
