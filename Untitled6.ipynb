{
 "cells": [
  {
   "cell_type": "code",
   "execution_count": 29,
   "id": "e5b2322e",
   "metadata": {},
   "outputs": [],
   "source": [
    "import matplotlib.pyplot as plt\n",
    "from pylab import *\n",
    "import networkx as nx\n",
    "import random as rd\n",
    "\n",
    "def initialize():\n",
    "    global g\n",
    "    g = nx.karate_club_graph()\n",
    "    g.pos = nx.spring_layout(g)\n",
    "    for i in g.nodes:\n",
    "        g.nodes[i]['state'] = 1 if random() < .5 else 0\n",
    "\n",
    "def observe():\n",
    "    global g\n",
    "    cla()\n",
    "    nx.draw(g, vmin = 0, vmax = 1,\n",
    "            node_color = [g.nodes[i]['state'] for i in g.nodes],\n",
    "            pos = g.pos)\n",
    "\n",
    "def update():\n",
    "    global g\n",
    "    listener = rd.choice(list(g.nodes))\n",
    "    speaker = rd.choice(list(g.neighbors(listener)))\n",
    "    g.nodes[listener]['state'] = g.nodes[speaker]['state']\n",
    "    \n",
    "    \n",
    "    \n",
    "def update2():\n",
    "    global g\n",
    "    speaker = rd.choice(list(g.nodes))\n",
    "    listener = rd.choice(list(g.neighbors(speaker)))\n",
    "    g.nodes[listener]['state'] = g.nodes[speaker]['state']\n",
    "    \n",
    "    \n",
    "def update3():\n",
    "    global g\n",
    "    ed = rd.choice(list(g.edges))\n",
    "    lis = round(random())\n",
    "    g.nodes[ed[lis]]['state'] = g.nodes[ed(abs(lis-1))]['state']\n",
    "\n",
    "#import pycxsimulator\n",
    "#pycxsimulator.GUI().start(func=[initialize, observe, update])"
   ]
  },
  {
   "cell_type": "code",
   "execution_count": 30,
   "id": "ab66a0f7",
   "metadata": {},
   "outputs": [
    {
     "name": "stderr",
     "output_type": "stream",
     "text": [
      "100%|█████████████████████████████████████████| 100/100 [00:06<00:00, 14.50it/s]\n",
      "100%|█████████████████████████████████████████| 100/100 [00:40<00:00,  2.46it/s]\n",
      "100%|█████████████████████████████████████████| 100/100 [00:38<00:00,  2.60it/s]\n"
     ]
    }
   ],
   "source": [
    "from tqdm import tqdm\n",
    "count1 = []\n",
    "count2 = []\n",
    "count3  =[]\n",
    "\n",
    "#run 100 simulations\n",
    "for i in tqdm(range(100)):\n",
    "    initialize()\n",
    "    count1.append(0)\n",
    "    st = [g.nodes[i]['state']for i in list(g.nodes)]\n",
    "    while sum(st) != len(st) and sum(st) != 0:\n",
    "        count1[-1] += 1\n",
    "        update()\n",
    "        st = [g.nodes[i]['state']for i in list(g.nodes)]\n",
    "        \n",
    "        \n",
    "for i in tqdm(range(100)):\n",
    "    initialize()\n",
    "    count2.append(0)\n",
    "    st = [g.nodes[i]['state']for i in list(g.nodes)]\n",
    "    while sum(st) != len(st) and sum(st) != 0:\n",
    "        count2[-1] += 1\n",
    "        update2()\n",
    "        st = [g.nodes[i]['state']for i in list(g.nodes)]  \n",
    "        \n",
    "        \n",
    "for i in tqdm(range(100)):\n",
    "    initialize()\n",
    "    count3.append(0)\n",
    "    st = [g.nodes[i]['state']for i in list(g.nodes)]\n",
    "    while sum(st) != len(st) and sum(st) != 0:\n",
    "        count3[-1] += 1\n",
    "        update2()\n",
    "        st = [g.nodes[i]['state']for i in list(g.nodes)] \n",
    "        "
   ]
  },
  {
   "cell_type": "code",
   "execution_count": 54,
   "id": "a91f4755",
   "metadata": {},
   "outputs": [
    {
     "data": {
      "image/png": "[encoded data removed]",
      "text/plain": [
       "<Figure size 432x288 with 1 Axes>"
      ]
     },
     "metadata": {
      "needs_background": "light"
     },
     "output_type": "display_data"
    },
    {
     "name": "stdout",
     "output_type": "stream",
     "text": [
      "mean:  602.83\n"
     ]
    }
   ],
   "source": [
    "plt.hist(count1, bins = 20)\n",
    "plt.axvline(np.mean(count1), color = 'r')\n",
    "plt.title('pull version')\n",
    "plt.xlabel('steps')\n",
    "plt.ylabel('percentage')\n",
    "\n",
    "plt.show()\n",
    "print('mean: ', np.mean(count1))"
   ]
  },
  {
   "cell_type": "code",
   "execution_count": 52,
   "id": "2a8600f1",
   "metadata": {},
   "outputs": [
    {
     "data": {
      "image/png": "[encoded data removed]",
      "text/plain": [
       "<Figure size 432x288 with 1 Axes>"
      ]
     },
     "metadata": {
      "needs_background": "light"
     },
     "output_type": "display_data"
    },
    {
     "name": "stdout",
     "output_type": "stream",
     "text": [
      "mean:  3328.67\n"
     ]
    }
   ],
   "source": [
    "plt.hist(count2, bins = 20)\n",
    "plt.axvline(np.mean(count2), color = 'r')\n",
    "plt.title('push version')\n",
    "plt.xlabel('steps')\n",
    "plt.ylabel('percentage')\n",
    "\n",
    "plt.show()\n",
    "print('mean: ', np.mean(count2))"
   ]
  },
  {
   "cell_type": "code",
   "execution_count": 53,
   "id": "2f499e64",
   "metadata": {},
   "outputs": [
    {
     "data": {
      "image/png": "[encoded data removed]",
      "text/plain": [
       "<Figure size 432x288 with 1 Axes>"
      ]
     },
     "metadata": {
      "needs_background": "light"
     },
     "output_type": "display_data"
    },
    {
     "name": "stdout",
     "output_type": "stream",
     "text": [
      "mean:  3862.85\n"
     ]
    }
   ],
   "source": [
    "plt.hist(count3, bins = 20)\n",
    "plt.axvline(np.mean(count3), color = 'r')\n",
    "plt.title('edge based version')\n",
    "plt.xlabel('steps')\n",
    "plt.ylabel('percentage')\n",
    "\n",
    "plt.show()\n",
    "print('mean: ', np.mean(count3))"
   ]
  },
  {
   "cell_type": "markdown",
   "id": "ce6ce248",
   "metadata": {},
   "source": [
    "We can see that the pull version has by far the lowest mean time, which means the voter network converges the fastest with the pull updating rule. The push updating is faster then the edge based updating, but both version are a lot slower then the pull version. This could be becaues in the first model, speakers are the neighbors of random nodes, so  highly connected nodes are more likely to be speakers and these speakers will determine the convergence fast. In the other versions, the connected nodes have non (2) or a lesser advantage (3) so the convergence takes longer. "
   ]
  }
 ],
 "metadata": {
  "kernelspec": {
   "display_name": "Python 3 (ipykernel)",
   "language": "python",
   "name": "python3"
  },
  "language_info": {
   "codemirror_mode": {
    "name": "ipython",
    "version": 3
   },
   "file_extension": ".py",
   "mimetype": "text/x-python",
   "name": "python",
   "nbconvert_exporter": "python",
   "pygments_lexer": "ipython3",
   "version": "3.9.7"
  }
 },
 "nbformat": 4,
 "nbformat_minor": 5
}
