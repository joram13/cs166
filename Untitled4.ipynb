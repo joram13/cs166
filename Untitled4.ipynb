{
 "cells": [
  {
   "cell_type": "code",
   "execution_count": 73,
   "id": "b2fa03cb",
   "metadata": {},
   "outputs": [
    {
     "name": "stdout",
     "output_type": "stream",
     "text": [
      "0\n"
     ]
    }
   ],
   "source": [
    "import random \n",
    "\n",
    "\n",
    "money = 250\n",
    "\n",
    "\n",
    "def play_game(length, money, strategy):\n",
    "    lost = False\n",
    "    betting = 0\n",
    "    for i in range(length):\n",
    "        if money > 0:\n",
    "            betting, heads = strategy(money, lost, betting)\n",
    "            \n",
    "            if random.random() < 0.6:\n",
    "                if heads:\n",
    "                    money += betting\n",
    "                    lost = False\n",
    "                else:\n",
    "                    money -= betting\n",
    "                    lost = True \n",
    "            else:\n",
    "                if heads:\n",
    "                    money -= betting\n",
    "                    lost = True\n",
    "                else:\n",
    "                    money += betting\n",
    "                    lost = False\n",
    "        else:\n",
    "            return 0\n",
    "    return money\n",
    "\n",
    "def strategy_1(money, lost, betting):\n",
    "    if lost:\n",
    "        if betting*2 < money:\n",
    "            return betting, True\n",
    "        else:\n",
    "            return money, True\n",
    "    else:\n",
    "        return money *0.2, True\n",
    "    \n",
    "\n",
    "    \n",
    "print(play_game(20, 250, strategy_1))"
   ]
  },
  {
   "cell_type": "code",
   "execution_count": 74,
   "id": "e6d485b8",
   "metadata": {},
   "outputs": [],
   "source": [
    "results = []\n",
    "\n",
    "for i in range(10000):\n",
    "    results.append(play_game(20, 250, strategy_1))\n",
    "    \n",
    "    "
   ]
  },
  {
   "cell_type": "code",
   "execution_count": 75,
   "id": "1fe85a92",
   "metadata": {},
   "outputs": [
    {
     "data": {
      "text/plain": [
       "(array([3.977e+03, 2.537e+03, 1.631e+03, 6.690e+02, 6.330e+02, 7.700e+01,\n",
       "        3.040e+02, 1.800e+01, 8.000e+00, 1.160e+02, 0.000e+00, 1.000e+00,\n",
       "        0.000e+00, 2.700e+01, 0.000e+00, 0.000e+00, 0.000e+00, 0.000e+00,\n",
       "        0.000e+00, 2.000e+00]),\n",
       " array([   0.        ,  332.79166601,  665.58333202,  998.37499803,\n",
       "        1331.16666404, 1663.95833006, 1996.74999607, 2329.54166208,\n",
       "        2662.33332809, 2995.1249941 , 3327.91666011, 3660.70832612,\n",
       "        3993.49999213, 4326.29165814, 4659.08332415, 4991.87499017,\n",
       "        5324.66665618, 5657.45832219, 5990.2499882 , 6323.04165421,\n",
       "        6655.83332022]),\n",
       " <BarContainer object of 20 artists>)"
      ]
     },
     "execution_count": 75,
     "metadata": {},
     "output_type": "execute_result"
    },
    {
     "data": {
      "image/png": "[encoded data removed]",
      "text/plain": [
       "<Figure size 432x288 with 1 Axes>"
      ]
     },
     "metadata": {
      "needs_background": "light"
     },
     "output_type": "display_data"
    }
   ],
   "source": [
    "from matplotlib import pyplot as plt\n",
    "\n",
    "plt.hist(results, bins = 20)"
   ]
  },
  {
   "cell_type": "code",
   "execution_count": 76,
   "id": "0b1b24d9",
   "metadata": {},
   "outputs": [
    {
     "data": {
      "text/plain": [
       "(592.0649522818248, 617.135492374013)"
      ]
     },
     "execution_count": 76,
     "metadata": {},
     "output_type": "execute_result"
    }
   ],
   "source": [
    "import scipy.stats as sts\n",
    "import numpy as np\n",
    "\n",
    "sts.t.interval(0.95, len(results)-1, loc=np.mean(results), scale=sts.sem(results))"
   ]
  },
  {
   "cell_type": "code",
   "execution_count": null,
   "id": "0140937c",
   "metadata": {},
   "outputs": [],
   "source": []
  },
  {
   "cell_type": "code",
   "execution_count": null,
   "id": "ba4279fe",
   "metadata": {},
   "outputs": [],
   "source": []
  }
 ],
 "metadata": {
  "kernelspec": {
   "display_name": "Python 3 (ipykernel)",
   "language": "python",
   "name": "python3"
  },
  "language_info": {
   "codemirror_mode": {
    "name": "ipython",
    "version": 3
   },
   "file_extension": ".py",
   "mimetype": "text/x-python",
   "name": "python",
   "nbconvert_exporter": "python",
   "pygments_lexer": "ipython3",
   "version": "3.9.7"
  }
 },
 "nbformat": 4,
 "nbformat_minor": 5
}
